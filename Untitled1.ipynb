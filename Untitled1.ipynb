{
 "cells": [
  {
   "cell_type": "code",
   "execution_count": 1,
   "metadata": {},
   "outputs": [
    {
     "name": "stdout",
     "output_type": "stream",
     "text": [
      "spam\n",
      "{'food': 'spam', 'quality': 4, 'color': 'pink', 'sex': 'gender'}\n"
     ]
    }
   ],
   "source": [
    "D = {'food':'spam', 'quality':4, 'color': 'pink'}\n",
    "print(D['food'])\n",
    "D['sex'] = 'gender'\n",
    "print(D)"
   ]
  },
  {
   "cell_type": "code",
   "execution_count": 2,
   "metadata": {},
   "outputs": [
    {
     "name": "stdout",
     "output_type": "stream",
     "text": [
      "{'a': 11, 'b': 22, 'c': 33}\n"
     ]
    }
   ],
   "source": [
    "key_list = ['a','b','c']\n",
    "value_list = [11,22,33]\n",
    "D = dict(zip(key_list, value_list))\n",
    "print(D)"
   ]
  },
  {
   "cell_type": "code",
   "execution_count": 3,
   "metadata": {},
   "outputs": [
    {
     "name": "stdout",
     "output_type": "stream",
     "text": [
      "{'a': 1, 'b': 2, 'c': 8, 'd': 9}\n"
     ]
    }
   ],
   "source": [
    "D1 = {'a':1,'b':2, 'c':3}\n",
    "D2 = {'c':8, 'd':9}\n",
    "D1.update(D2)\n",
    "print(D1)"
   ]
  }
 ],
 "metadata": {
  "kernelspec": {
   "display_name": "Python 3",
   "language": "python",
   "name": "python3"
  },
  "language_info": {
   "codemirror_mode": {
    "name": "ipython",
    "version": 3
   },
   "file_extension": ".py",
   "mimetype": "text/x-python",
   "name": "python",
   "nbconvert_exporter": "python",
   "pygments_lexer": "ipython3",
   "version": "3.6.5"
  }
 },
 "nbformat": 4,
 "nbformat_minor": 2
}
